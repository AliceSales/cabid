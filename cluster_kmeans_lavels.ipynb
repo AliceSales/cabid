{
 "cells": [
  {
   "cell_type": "code",
   "execution_count": 1,
   "metadata": {},
   "outputs": [
    {
     "name": "stderr",
     "output_type": "stream",
     "text": [
      "/tmp/ipykernel_10438/712037525.py:9: DeprecationWarning: \n",
      "Pyarrow will become a required dependency of pandas in the next major release of pandas (pandas 3.0),\n",
      "(to allow more performant data types, such as the Arrow string type, and better interoperability with other libraries)\n",
      "but was not found to be installed on your system.\n",
      "If this would cause problems for you,\n",
      "please provide us feedback at https://github.com/pandas-dev/pandas/issues/54466\n",
      "        \n",
      "  import pandas as pd\n"
     ]
    }
   ],
   "source": [
    "from sklearn.feature_extraction.text import TfidfVectorizer\n",
    "from sklearn.preprocessing import OneHotEncoder\n",
    "from sklearn.cluster import KMeans\n",
    "from sklearn.compose import ColumnTransformer\n",
    "from sklearn.pipeline import Pipeline\n",
    "from sklearn.metrics import silhouette_score\n",
    "import matplotlib.pyplot as plt\n",
    "from sklearn.decomposition import PCA\n",
    "import pandas as pd\n",
    "from sklearn.neighbors import NearestNeighbors\n",
    "import numpy as np\n",
    "import csv\n",
    "import requests\n",
    "import os\n"
   ]
  },
  {
   "cell_type": "code",
   "execution_count": 2,
   "metadata": {},
   "outputs": [],
   "source": [
    "# Supondo que 'dados' seja o seu DataFrame com os dados categóricos\n",
    "# e 'colunas_categoricas' seja uma lista das colunas que são categóricas\n",
    "dados = pd.read_csv(\"styles.csv\")\n",
    "\n",
    "colunas_categoricas = [\"gender\",\"masterCategory\",\"subCategory\",\"articleType\",\"baseColour\",\"season\",\"year\",\"usage\"]\n",
    "# Selecionar apenas as colunas categóricas\n",
    "dados_categoricos = dados[colunas_categoricas]\n",
    "\n",
    "# Selecionar a primeira coluna (ID)\n",
    "id_coluna = dados[['id']]\n",
    "\n",
    "# Criar um codificador one-hot\n",
    "encoder = OneHotEncoder()\n",
    "\n",
    "# Ajustar e transformar os dados categóricos\n",
    "dados_codificados = encoder.fit_transform(dados_categoricos)\n",
    "\n",
    "# Converter a saída para um DataFrame pandas\n",
    "dados_codificados_df = pd.DataFrame(dados_codificados.toarray(), columns=encoder.get_feature_names_out(colunas_categoricas))\n",
    "\n",
    "\n",
    "# Adicionar a coluna de ID de volta aos dados\n",
    "dados_codificados_df.insert(0, 'id', id_coluna)\n",
    "\n",
    "# Agora você tem um DataFrame com as colunas categóricas codificadas one-hot,\n",
    "# mantendo a primeira coluna (ID) intacta\n"
   ]
  },
  {
   "cell_type": "code",
   "execution_count": 3,
   "metadata": {},
   "outputs": [],
   "source": [
    "# Supondo que você tenha o número de clusters desejado armazenado na variável 'num_clusters'\n",
    "num_clusters = 15\n",
    "\n",
    "# Inicializar o algoritmo K-means com o número de clusters desejado\n",
    "kmeans = KMeans(n_clusters=num_clusters)\n",
    "\n",
    "# Ajustar o modelo aos dados codificados\n",
    "modelo = kmeans.fit(dados_codificados)\n",
    "\n",
    "# Obter os rótulos dos clusters para cada observação\n",
    "rotulos_clusters = modelo.labels_\n",
    "centroides = modelo.cluster_centers_\n",
    "# Você pode agora usar os rótulos dos clusters para análise posterior ou visualização\n"
   ]
  },
  {
   "cell_type": "code",
   "execution_count": 4,
   "metadata": {},
   "outputs": [
    {
     "name": "stdout",
     "output_type": "stream",
     "text": [
      "[[1.07781850e-01 7.24294029e-02 1.69864195e-01 ... 9.70036646e-03\n",
      "  0.00000000e+00 3.66458288e-03]\n",
      " [1.22422680e-02 1.01481959e-02 8.05251289e-01 ... 1.14207474e-01\n",
      "  0.00000000e+00 0.00000000e+00]\n",
      " [0.00000000e+00 3.99361022e-04 3.99361022e-02 ... 9.98402556e-03\n",
      "  4.79233227e-03 1.59744409e-03]\n",
      " ...\n",
      " [1.74672489e-02 7.64192140e-03 5.41484716e-01 ... 7.64192140e-03\n",
      "  0.00000000e+00 0.00000000e+00]\n",
      " [5.06450072e-02 6.06784520e-02 4.16626851e-01 ... 1.79168657e-01\n",
      "  0.00000000e+00 9.55566173e-04]\n",
      " [1.72413793e-03 2.10727969e-03 2.72413793e-01 ... 5.63218391e-02\n",
      "  2.49042146e-03 3.44827586e-03]]\n",
      "44446\n"
     ]
    }
   ],
   "source": [
    "print(centroides)\n",
    "print(len(rotulos_clusters))"
   ]
  },
  {
   "cell_type": "code",
   "execution_count": 5,
   "metadata": {},
   "outputs": [
    {
     "name": "stdout",
     "output_type": "stream",
     "text": [
      "[[319  79 416 188 594 320 558 636 379  66]] [[2.44948974 2.44948974 2.44948974 2.44948974 2.44948974 2.44948974\n",
      "  2.44948974 2.44948974 2.44948974 2.44948974]]\n",
      "[44173, 8574, 43994, 58980, 55496, 25978, 58973, 57597, 55805, 43993]\n"
     ]
    },
    {
     "name": "stderr",
     "output_type": "stream",
     "text": [
      "/home/codespace/.local/lib/python3.10/site-packages/sklearn/base.py:493: UserWarning: X does not have valid feature names, but OneHotEncoder was fitted with feature names\n",
      "  warnings.warn(\n",
      "/home/codespace/.local/lib/python3.10/site-packages/sklearn/neighbors/_base.py:584: UserWarning: cannot use tree with sparse input: using brute force\n",
      "  warnings.warn(\"cannot use tree with sparse input: using brute force\")\n"
     ]
    }
   ],
   "source": [
    "novos_dados = [\"Women\",'Personal Care','Sandal',\"Sandals\",\"Pink\",'Summer',2017,\"Casual\"]\n",
    "\n",
    "novos_dados_df = pd.DataFrame([novos_dados])\n",
    "\n",
    "# Aplicar o codificador aos novos dados\n",
    "novos_dados_codificados = encoder.transform(novos_dados_df).toarray()\n",
    "\n",
    "\n",
    "\n",
    "\n",
    "# Encontre os vizinhos mais próximos do novo dado\n",
    "num_vizinhos = 5  # Número de vizinhos mais próximos que você deseja encontrar\n",
    "vizinhos_mais_proximos = NearestNeighbors(n_neighbors=num_vizinhos, algorithm='ball_tree').fit(centroides)\n",
    "distancias_clusters, indices_clusters = vizinhos_mais_proximos.kneighbors(novos_dados_codificados)\n",
    "\n",
    "\n",
    "pontos_cluster = []\n",
    "for indice_cluster in indices_clusters.flatten():\n",
    "    pontos_cluster.extend(modelo.labels_ == indice_cluster)\n",
    "\n",
    "# Calcular as distâncias dos pontos individuais para o novo dado\n",
    "pontos_individuais = dados_codificados[pontos_cluster]\n",
    "vizinhos_mais_proximos = NearestNeighbors(n_neighbors=10, algorithm='ball_tree').fit(dados_codificados)\n",
    "distancias, indices = vizinhos_mais_proximos.kneighbors(novos_dados_codificados)\n",
    "\n",
    "print(indices, distancias)\n",
    "for indice in indices:\n",
    "    ids = dados.loc[indice, 'id'].tolist()\n",
    "print(ids)"
   ]
  },
  {
   "cell_type": "code",
   "execution_count": 8,
   "metadata": {},
   "outputs": [],
   "source": [
    "def baixar_imagem(url, nome_arquivo, i):\n",
    "    try:\n",
    "        # Faz uma requisição GET para a URL da imagem\n",
    "        resposta = requests.get(url)\n",
    "\n",
    "        # Verifica se a requisição foi bem-sucedida\n",
    "        if resposta.status_code == 200:\n",
    "            # Abre o arquivo no modo de escrita binária ('wb') e escreve o conteúdo da resposta\n",
    "            with open(f'{nome_arquivo}{i}.jpg', 'wb') as arquivo:\n",
    "                arquivo.write(resposta.content)\n",
    "            print(f\"Imagem salva como {nome_arquivo}\")\n",
    "        else:\n",
    "            print(\"Falha ao baixar a imagem:\", resposta.status_code)\n",
    "    except Exception as e:\n",
    "        print(\"Erro ao baixar a imagem:\", str(e))"
   ]
  },
  {
   "cell_type": "code",
   "execution_count": 10,
   "metadata": {},
   "outputs": [
    {
     "name": "stdout",
     "output_type": "stream",
     "text": [
      "Imagem salva como /workspaces/cabid/Roupas_semelhantes/\n",
      "Imagem salva como /workspaces/cabid/Roupas_semelhantes/\n",
      "Imagem salva como /workspaces/cabid/Roupas_semelhantes/\n",
      "Imagem salva como /workspaces/cabid/Roupas_semelhantes/\n",
      "Imagem salva como /workspaces/cabid/Roupas_semelhantes/\n",
      "Imagem salva como /workspaces/cabid/Roupas_semelhantes/\n",
      "Imagem salva como /workspaces/cabid/Roupas_semelhantes/\n",
      "Imagem salva como /workspaces/cabid/Roupas_semelhantes/\n",
      "Imagem salva como /workspaces/cabid/Roupas_semelhantes/\n",
      "Imagem salva como /workspaces/cabid/Roupas_semelhantes/\n"
     ]
    }
   ],
   "source": [
    "os.mkdir( \"/workspaces/cabid/Roupas_semelhantes/\")\n",
    "with open(\"images.csv\", 'r', newline='', encoding='utf-8') as csv_file:\n",
    "  leitor_csv = csv.reader(csv_file)\n",
    "  cont = 0\n",
    "  for linha in leitor_csv:\n",
    "    linha_id = linha[0][:-4]\n",
    "    for id in ids:\n",
    "      if id == int(linha_id):\n",
    "        baixar_imagem(linha[1], \"/workspaces/cabid/Roupas_semelhantes/\", cont)\n",
    "        cont +=1\n",
    "  \n",
    "\n",
    "    "
   ]
  },
  {
   "cell_type": "markdown",
   "metadata": {},
   "source": [
    "### Esta celula foi utilizada para apagar a última coluna.\n",
    "Foi preciso apagar por que cada valor era uma frase e em alguns casos(quando havia uma virgula na frase) esbarrava em um erro ao tentar abrir o csv com pandas\n",
    "Em segundo lugar aquele tipo de dados seria dificilmente bem processado pelo cluster\n",
    "este trecho de código merece ser esquecido e apagado de nossas memórias, está aqui apenas para o caso de precisarmos dele de novo."
   ]
  },
  {
   "cell_type": "code",
   "execution_count": null,
   "metadata": {},
   "outputs": [],
   "source": [
    "import csv\n",
    "\n",
    "# Lista para armazenar as linhas do arquivo CSV sem a última coluna\n",
    "linhas_sem_ultima_coluna = []\n",
    "\n",
    "with open('new_styles.csv', 'r', newline='') as csvfile:\n",
    "    leitor_csv = csv.reader(csvfile)\n",
    "    for linha in leitor_csv:\n",
    "        try:\n",
    "            print(linha[9])\n",
    "            linha_sem_ultima_coluna = linha[:-1] \n",
    "            # Adicionar a linha sem a última coluna à lista\n",
    "            linhas_sem_ultima_coluna.append(linha_sem_ultima_coluna)\n",
    "        except:\n",
    "            linhas_sem_ultima_coluna.append(linha)\n",
    "            continue\n",
    "            \n",
    "       \n",
    "\n",
    "# Escrever as linhas sem a última coluna em um novo arquivo CSV\n",
    "with open('new_styles2.csv', 'w', newline='') as csvfile:\n",
    "    escritor_csv = csv.writer(csvfile)\n",
    "    escritor_csv.writerows(linhas_sem_ultima_coluna)"
   ]
  },
  {
   "cell_type": "code",
   "execution_count": 5,
   "metadata": {},
   "outputs": [
    {
     "name": "stdout",
     "output_type": "stream",
     "text": [
      "      gender masterCategory subCategory            articleType baseColour   \n",
      "0        Men        Apparel     Topwear                 Shirts  Navy Blue  \\\n",
      "1        Men        Apparel  Bottomwear                  Jeans       Blue   \n",
      "2      Women    Accessories     Watches                Watches     Silver   \n",
      "3        Men        Apparel  Bottomwear            Track Pants      Black   \n",
      "4        Men        Apparel     Topwear                Tshirts       Grey   \n",
      "...      ...            ...         ...                    ...        ...   \n",
      "44441    Men       Footwear       Shoes           Casual Shoes      White   \n",
      "44442    Men       Footwear  Flip Flops             Flip Flops        Red   \n",
      "44443    Men        Apparel     Topwear                Tshirts       Blue   \n",
      "44444  Women  Personal Care   Fragrance  Perfume and Body Mist       Blue   \n",
      "44445  Women    Accessories     Watches                Watches       Pink   \n",
      "\n",
      "       season    year   usage  \n",
      "0        Fall  2011.0  Casual  \n",
      "1      Summer  2012.0  Casual  \n",
      "2      Winter  2016.0  Casual  \n",
      "3        Fall  2011.0  Casual  \n",
      "4      Summer  2012.0  Casual  \n",
      "...       ...     ...     ...  \n",
      "44441  Summer  2013.0  Casual  \n",
      "44442  Summer  2011.0  Casual  \n",
      "44443    Fall  2011.0  Casual  \n",
      "44444  Spring  2017.0  Casual  \n",
      "44445  Winter  2016.0  Casual  \n",
      "\n",
      "[44446 rows x 8 columns]\n"
     ]
    }
   ],
   "source": [
    "print(dados_categoricos)"
   ]
  }
 ],
 "metadata": {
  "kernelspec": {
   "display_name": "Python 3",
   "language": "python",
   "name": "python3"
  },
  "language_info": {
   "codemirror_mode": {
    "name": "ipython",
    "version": 3
   },
   "file_extension": ".py",
   "mimetype": "text/x-python",
   "name": "python",
   "nbconvert_exporter": "python",
   "pygments_lexer": "ipython3",
   "version": "3.10.13"
  }
 },
 "nbformat": 4,
 "nbformat_minor": 2
}
